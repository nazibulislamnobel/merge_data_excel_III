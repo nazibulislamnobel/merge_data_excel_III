{
 "cells": [
  {
   "cell_type": "code",
   "execution_count": 60,
   "id": "5ce106f7",
   "metadata": {},
   "outputs": [],
   "source": [
    "import pandas as pd"
   ]
  },
  {
   "cell_type": "code",
   "execution_count": 61,
   "id": "341ea95e",
   "metadata": {
    "scrolled": true
   },
   "outputs": [],
   "source": [
    "df = pd.read_csv('C:\\\\Users\\\\Nobel.csv', skiprows=3,  index_col=False, encoding_errors='ignore')"
   ]
  },
  {
   "cell_type": "code",
   "execution_count": 62,
   "id": "a3b75d5e",
   "metadata": {},
   "outputs": [],
   "source": [
    "key = pd.read_excel('C:\\\\Output\\\\Key.xlsx')\n",
    "key = key.rename(columns={'Article_Code': ' ProductCode'})"
   ]
  },
  {
   "cell_type": "code",
   "execution_count": null,
   "id": "faf0edea",
   "metadata": {},
   "outputs": [],
   "source": [
    "columns_to_strip = [' SalesQty', ' Total', ' NetPayble', ' NSI']\n",
    "df[columns_to_strip] = df[columns_to_strip].apply(lambda x: x.str.strip(\"'\"))\n",
    "df.shape"
   ]
  },
  {
   "cell_type": "code",
   "execution_count": null,
   "id": "afb1669f",
   "metadata": {},
   "outputs": [],
   "source": [
    "key = key.drop_duplicates(subset=' ProductCode')\n",
    "merged_df = pd.merge(df, key[[' ProductCode', 'Division', 'Category_Level_1', 'Category_Level_2', 'Category_Level_3']], on=' ProductCode', how='left')\n",
    "merged_df.shape"
   ]
  },
  {
   "cell_type": "code",
   "execution_count": 65,
   "id": "77521889",
   "metadata": {},
   "outputs": [],
   "source": [
    "fixed = merged_df[['InvoiceDate', ' InvoiceNo', ' CustomerCode', ' CustomerName', ' Mobile', ' OutletCode', ' OutletName', ' ProductCode', ' ProductName', 'Division', 'Category_Level_1', 'Category_Level_2', 'Category_Level_3', ' UOM', ' SalesQty', ' Total', ' NetPayble', ' NSI']]"
   ]
  },
  {
   "cell_type": "code",
   "execution_count": 66,
   "id": "44bc1c3d",
   "metadata": {},
   "outputs": [],
   "source": [
    "fixed.to_csv('C:\\\\Users\\\\Nobel.csv', index=False)"
   ]
  },
  {
   "cell_type": "code",
   "execution_count": null,
   "id": "a5cea59b",
   "metadata": {},
   "outputs": [],
   "source": []
  }
 ],
 "metadata": {
  "kernelspec": {
   "display_name": "Python 3 (ipykernel)",
   "language": "python",
   "name": "python3"
  },
  "language_info": {
   "codemirror_mode": {
    "name": "ipython",
    "version": 3
   },
   "file_extension": ".py",
   "mimetype": "text/x-python",
   "name": "python",
   "nbconvert_exporter": "python",
   "pygments_lexer": "ipython3",
   "version": "3.10.9"
  }
 },
 "nbformat": 4,
 "nbformat_minor": 5
}
